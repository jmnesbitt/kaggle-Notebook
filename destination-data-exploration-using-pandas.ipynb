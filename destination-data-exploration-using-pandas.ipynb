{
 "cells": [
  {
   "cell_type": "markdown",
   "id": "bb38b7f8",
   "metadata": {
    "papermill": {
     "duration": 0.009266,
     "end_time": "2023-03-15T12:05:01.086557",
     "exception": false,
     "start_time": "2023-03-15T12:05:01.077291",
     "status": "completed"
    },
    "tags": []
   },
   "source": [
    "**This exercise will explore the use of Pandas for a simple data analysis**"
   ]
  },
  {
   "cell_type": "code",
   "execution_count": 1,
   "id": "028568bc",
   "metadata": {
    "execution": {
     "iopub.execute_input": "2023-03-15T12:05:01.105622Z",
     "iopub.status.busy": "2023-03-15T12:05:01.104781Z",
     "iopub.status.idle": "2023-03-15T12:05:01.128414Z",
     "shell.execute_reply": "2023-03-15T12:05:01.126859Z"
    },
    "papermill": {
     "duration": 0.036928,
     "end_time": "2023-03-15T12:05:01.131745",
     "exception": false,
     "start_time": "2023-03-15T12:05:01.094817",
     "status": "completed"
    },
    "tags": []
   },
   "outputs": [],
   "source": [
    "# import pandas\n",
    "import pandas as pd\n",
    "\n",
    "# loading data into datafram\n",
    "df = pd.read_csv('/kaggle/input/destination/Destination.csv')"
   ]
  },
  {
   "cell_type": "markdown",
   "id": "fa9b51ff",
   "metadata": {
    "papermill": {
     "duration": 0.007646,
     "end_time": "2023-03-15T12:05:01.147568",
     "exception": false,
     "start_time": "2023-03-15T12:05:01.139922",
     "status": "completed"
    },
    "tags": []
   },
   "source": [
    "Use 'df' to display the whole data in as cell."
   ]
  },
  {
   "cell_type": "code",
   "execution_count": 2,
   "id": "286daebe",
   "metadata": {
    "execution": {
     "iopub.execute_input": "2023-03-15T12:05:01.165936Z",
     "iopub.status.busy": "2023-03-15T12:05:01.165382Z",
     "iopub.status.idle": "2023-03-15T12:05:01.203087Z",
     "shell.execute_reply": "2023-03-15T12:05:01.201659Z"
    },
    "papermill": {
     "duration": 0.050594,
     "end_time": "2023-03-15T12:05:01.206143",
     "exception": false,
     "start_time": "2023-03-15T12:05:01.155549",
     "status": "completed"
    },
    "tags": []
   },
   "outputs": [
    {
     "data": {
      "text/html": [
       "<div>\n",
       "<style scoped>\n",
       "    .dataframe tbody tr th:only-of-type {\n",
       "        vertical-align: middle;\n",
       "    }\n",
       "\n",
       "    .dataframe tbody tr th {\n",
       "        vertical-align: top;\n",
       "    }\n",
       "\n",
       "    .dataframe thead th {\n",
       "        text-align: right;\n",
       "    }\n",
       "</style>\n",
       "<table border=\"1\" class=\"dataframe\">\n",
       "  <thead>\n",
       "    <tr style=\"text-align: right;\">\n",
       "      <th></th>\n",
       "      <th>id</th>\n",
       "      <th>Destination</th>\n",
       "      <th>Feedback</th>\n",
       "      <th>Avg Rating</th>\n",
       "      <th>All in Hotels</th>\n",
       "      <th>Most Popular</th>\n",
       "    </tr>\n",
       "  </thead>\n",
       "  <tbody>\n",
       "    <tr>\n",
       "      <th>0</th>\n",
       "      <td>1.0</td>\n",
       "      <td>New Zealand</td>\n",
       "      <td>9.0</td>\n",
       "      <td>4.0</td>\n",
       "      <td>5.0</td>\n",
       "      <td>Rotura</td>\n",
       "    </tr>\n",
       "    <tr>\n",
       "      <th>1</th>\n",
       "      <td>2.0</td>\n",
       "      <td>North Pole</td>\n",
       "      <td>8.0</td>\n",
       "      <td>4.0</td>\n",
       "      <td>6.0</td>\n",
       "      <td>Svalbard</td>\n",
       "    </tr>\n",
       "    <tr>\n",
       "      <th>2</th>\n",
       "      <td>3.0</td>\n",
       "      <td>Turkmenistan</td>\n",
       "      <td>7.0</td>\n",
       "      <td>3.0</td>\n",
       "      <td>9.0</td>\n",
       "      <td>Derweze</td>\n",
       "    </tr>\n",
       "    <tr>\n",
       "      <th>3</th>\n",
       "      <td>4.0</td>\n",
       "      <td>Russia</td>\n",
       "      <td>8.0</td>\n",
       "      <td>5.0</td>\n",
       "      <td>17.0</td>\n",
       "      <td>Yekaterinburg</td>\n",
       "    </tr>\n",
       "    <tr>\n",
       "      <th>4</th>\n",
       "      <td>5.0</td>\n",
       "      <td>Austria</td>\n",
       "      <td>9.0</td>\n",
       "      <td>4.0</td>\n",
       "      <td>12.0</td>\n",
       "      <td>Hinterbruhl</td>\n",
       "    </tr>\n",
       "    <tr>\n",
       "      <th>5</th>\n",
       "      <td>6.0</td>\n",
       "      <td>China</td>\n",
       "      <td>8.0</td>\n",
       "      <td>3.0</td>\n",
       "      <td>198.0</td>\n",
       "      <td>Xinjiang</td>\n",
       "    </tr>\n",
       "    <tr>\n",
       "      <th>6</th>\n",
       "      <td>7.0</td>\n",
       "      <td>Italy</td>\n",
       "      <td>9.0</td>\n",
       "      <td>5.0</td>\n",
       "      <td>76.0</td>\n",
       "      <td>Puglia</td>\n",
       "    </tr>\n",
       "    <tr>\n",
       "      <th>7</th>\n",
       "      <td>8.0</td>\n",
       "      <td>France</td>\n",
       "      <td>6.0</td>\n",
       "      <td>3.0</td>\n",
       "      <td>24.0</td>\n",
       "      <td>Nantes</td>\n",
       "    </tr>\n",
       "    <tr>\n",
       "      <th>8</th>\n",
       "      <td>9.0</td>\n",
       "      <td>India</td>\n",
       "      <td>8.0</td>\n",
       "      <td>3.0</td>\n",
       "      <td>45.0</td>\n",
       "      <td>Ladakh</td>\n",
       "    </tr>\n",
       "    <tr>\n",
       "      <th>9</th>\n",
       "      <td>10.0</td>\n",
       "      <td>Indonesia</td>\n",
       "      <td>9.0</td>\n",
       "      <td>4.0</td>\n",
       "      <td>80.0</td>\n",
       "      <td>Aceh</td>\n",
       "    </tr>\n",
       "    <tr>\n",
       "      <th>10</th>\n",
       "      <td>11.0</td>\n",
       "      <td>Japan</td>\n",
       "      <td>10.0</td>\n",
       "      <td>5.0</td>\n",
       "      <td>90.0</td>\n",
       "      <td>Beppu</td>\n",
       "    </tr>\n",
       "    <tr>\n",
       "      <th>11</th>\n",
       "      <td>12.0</td>\n",
       "      <td>Turkey</td>\n",
       "      <td>9.0</td>\n",
       "      <td>4.0</td>\n",
       "      <td>54.0</td>\n",
       "      <td>Faralya</td>\n",
       "    </tr>\n",
       "    <tr>\n",
       "      <th>12</th>\n",
       "      <td>13.0</td>\n",
       "      <td>Palestine</td>\n",
       "      <td>9.0</td>\n",
       "      <td>3.0</td>\n",
       "      <td>5.0</td>\n",
       "      <td>Jerusalem</td>\n",
       "    </tr>\n",
       "    <tr>\n",
       "      <th>13</th>\n",
       "      <td>14.0</td>\n",
       "      <td>Oman</td>\n",
       "      <td>7.0</td>\n",
       "      <td>5.0</td>\n",
       "      <td>2.0</td>\n",
       "      <td>Bahla</td>\n",
       "    </tr>\n",
       "    <tr>\n",
       "      <th>14</th>\n",
       "      <td>15.0</td>\n",
       "      <td>United Kingdom</td>\n",
       "      <td>7.0</td>\n",
       "      <td>4.0</td>\n",
       "      <td>20.0</td>\n",
       "      <td>London</td>\n",
       "    </tr>\n",
       "    <tr>\n",
       "      <th>15</th>\n",
       "      <td>NaN</td>\n",
       "      <td>NaN</td>\n",
       "      <td>NaN</td>\n",
       "      <td>NaN</td>\n",
       "      <td>NaN</td>\n",
       "      <td>NaN</td>\n",
       "    </tr>\n",
       "    <tr>\n",
       "      <th>16</th>\n",
       "      <td>NaN</td>\n",
       "      <td>NaN</td>\n",
       "      <td>NaN</td>\n",
       "      <td>NaN</td>\n",
       "      <td>NaN</td>\n",
       "      <td>NaN</td>\n",
       "    </tr>\n",
       "  </tbody>\n",
       "</table>\n",
       "</div>"
      ],
      "text/plain": [
       "      id     Destination  Feedback  Avg Rating  All in Hotels   Most Popular\n",
       "0    1.0     New Zealand       9.0         4.0            5.0         Rotura\n",
       "1    2.0      North Pole       8.0         4.0            6.0       Svalbard\n",
       "2    3.0    Turkmenistan       7.0         3.0            9.0        Derweze\n",
       "3    4.0          Russia       8.0         5.0           17.0  Yekaterinburg\n",
       "4    5.0         Austria       9.0         4.0           12.0    Hinterbruhl\n",
       "5    6.0           China       8.0         3.0          198.0       Xinjiang\n",
       "6    7.0           Italy       9.0         5.0           76.0         Puglia\n",
       "7    8.0          France       6.0         3.0           24.0         Nantes\n",
       "8    9.0           India       8.0         3.0           45.0         Ladakh\n",
       "9   10.0       Indonesia       9.0         4.0           80.0           Aceh\n",
       "10  11.0           Japan      10.0         5.0           90.0          Beppu\n",
       "11  12.0          Turkey       9.0         4.0           54.0        Faralya\n",
       "12  13.0       Palestine       9.0         3.0            5.0      Jerusalem\n",
       "13  14.0            Oman       7.0         5.0            2.0          Bahla\n",
       "14  15.0  United Kingdom       7.0         4.0           20.0         London\n",
       "15   NaN             NaN       NaN         NaN            NaN            NaN\n",
       "16   NaN             NaN       NaN         NaN            NaN            NaN"
      ]
     },
     "execution_count": 2,
     "metadata": {},
     "output_type": "execute_result"
    }
   ],
   "source": [
    "df"
   ]
  },
  {
   "cell_type": "markdown",
   "id": "4d6caabc",
   "metadata": {
    "papermill": {
     "duration": 0.008089,
     "end_time": "2023-03-15T12:05:01.222757",
     "exception": false,
     "start_time": "2023-03-15T12:05:01.214668",
     "status": "completed"
    },
    "tags": []
   },
   "source": [
    "If you have more than 1000+ rows, on;y display the first 5 rows of dataset. Use 'head(10)' to display 10 rows."
   ]
  },
  {
   "cell_type": "code",
   "execution_count": 3,
   "id": "f38dc96c",
   "metadata": {
    "execution": {
     "iopub.execute_input": "2023-03-15T12:05:01.242114Z",
     "iopub.status.busy": "2023-03-15T12:05:01.241670Z",
     "iopub.status.idle": "2023-03-15T12:05:01.260243Z",
     "shell.execute_reply": "2023-03-15T12:05:01.258825Z"
    },
    "papermill": {
     "duration": 0.031481,
     "end_time": "2023-03-15T12:05:01.263126",
     "exception": false,
     "start_time": "2023-03-15T12:05:01.231645",
     "status": "completed"
    },
    "tags": []
   },
   "outputs": [
    {
     "data": {
      "text/html": [
       "<div>\n",
       "<style scoped>\n",
       "    .dataframe tbody tr th:only-of-type {\n",
       "        vertical-align: middle;\n",
       "    }\n",
       "\n",
       "    .dataframe tbody tr th {\n",
       "        vertical-align: top;\n",
       "    }\n",
       "\n",
       "    .dataframe thead th {\n",
       "        text-align: right;\n",
       "    }\n",
       "</style>\n",
       "<table border=\"1\" class=\"dataframe\">\n",
       "  <thead>\n",
       "    <tr style=\"text-align: right;\">\n",
       "      <th></th>\n",
       "      <th>id</th>\n",
       "      <th>Destination</th>\n",
       "      <th>Feedback</th>\n",
       "      <th>Avg Rating</th>\n",
       "      <th>All in Hotels</th>\n",
       "      <th>Most Popular</th>\n",
       "    </tr>\n",
       "  </thead>\n",
       "  <tbody>\n",
       "    <tr>\n",
       "      <th>0</th>\n",
       "      <td>1.0</td>\n",
       "      <td>New Zealand</td>\n",
       "      <td>9.0</td>\n",
       "      <td>4.0</td>\n",
       "      <td>5.0</td>\n",
       "      <td>Rotura</td>\n",
       "    </tr>\n",
       "    <tr>\n",
       "      <th>1</th>\n",
       "      <td>2.0</td>\n",
       "      <td>North Pole</td>\n",
       "      <td>8.0</td>\n",
       "      <td>4.0</td>\n",
       "      <td>6.0</td>\n",
       "      <td>Svalbard</td>\n",
       "    </tr>\n",
       "    <tr>\n",
       "      <th>2</th>\n",
       "      <td>3.0</td>\n",
       "      <td>Turkmenistan</td>\n",
       "      <td>7.0</td>\n",
       "      <td>3.0</td>\n",
       "      <td>9.0</td>\n",
       "      <td>Derweze</td>\n",
       "    </tr>\n",
       "    <tr>\n",
       "      <th>3</th>\n",
       "      <td>4.0</td>\n",
       "      <td>Russia</td>\n",
       "      <td>8.0</td>\n",
       "      <td>5.0</td>\n",
       "      <td>17.0</td>\n",
       "      <td>Yekaterinburg</td>\n",
       "    </tr>\n",
       "    <tr>\n",
       "      <th>4</th>\n",
       "      <td>5.0</td>\n",
       "      <td>Austria</td>\n",
       "      <td>9.0</td>\n",
       "      <td>4.0</td>\n",
       "      <td>12.0</td>\n",
       "      <td>Hinterbruhl</td>\n",
       "    </tr>\n",
       "    <tr>\n",
       "      <th>5</th>\n",
       "      <td>6.0</td>\n",
       "      <td>China</td>\n",
       "      <td>8.0</td>\n",
       "      <td>3.0</td>\n",
       "      <td>198.0</td>\n",
       "      <td>Xinjiang</td>\n",
       "    </tr>\n",
       "    <tr>\n",
       "      <th>6</th>\n",
       "      <td>7.0</td>\n",
       "      <td>Italy</td>\n",
       "      <td>9.0</td>\n",
       "      <td>5.0</td>\n",
       "      <td>76.0</td>\n",
       "      <td>Puglia</td>\n",
       "    </tr>\n",
       "    <tr>\n",
       "      <th>7</th>\n",
       "      <td>8.0</td>\n",
       "      <td>France</td>\n",
       "      <td>6.0</td>\n",
       "      <td>3.0</td>\n",
       "      <td>24.0</td>\n",
       "      <td>Nantes</td>\n",
       "    </tr>\n",
       "    <tr>\n",
       "      <th>8</th>\n",
       "      <td>9.0</td>\n",
       "      <td>India</td>\n",
       "      <td>8.0</td>\n",
       "      <td>3.0</td>\n",
       "      <td>45.0</td>\n",
       "      <td>Ladakh</td>\n",
       "    </tr>\n",
       "    <tr>\n",
       "      <th>9</th>\n",
       "      <td>10.0</td>\n",
       "      <td>Indonesia</td>\n",
       "      <td>9.0</td>\n",
       "      <td>4.0</td>\n",
       "      <td>80.0</td>\n",
       "      <td>Aceh</td>\n",
       "    </tr>\n",
       "  </tbody>\n",
       "</table>\n",
       "</div>"
      ],
      "text/plain": [
       "     id   Destination  Feedback  Avg Rating  All in Hotels   Most Popular\n",
       "0   1.0   New Zealand       9.0         4.0            5.0         Rotura\n",
       "1   2.0    North Pole       8.0         4.0            6.0       Svalbard\n",
       "2   3.0  Turkmenistan       7.0         3.0            9.0        Derweze\n",
       "3   4.0        Russia       8.0         5.0           17.0  Yekaterinburg\n",
       "4   5.0       Austria       9.0         4.0           12.0    Hinterbruhl\n",
       "5   6.0         China       8.0         3.0          198.0       Xinjiang\n",
       "6   7.0         Italy       9.0         5.0           76.0         Puglia\n",
       "7   8.0        France       6.0         3.0           24.0         Nantes\n",
       "8   9.0         India       8.0         3.0           45.0         Ladakh\n",
       "9  10.0     Indonesia       9.0         4.0           80.0           Aceh"
      ]
     },
     "execution_count": 3,
     "metadata": {},
     "output_type": "execute_result"
    }
   ],
   "source": [
    "df.head(10)"
   ]
  },
  {
   "cell_type": "code",
   "execution_count": 4,
   "id": "54096aef",
   "metadata": {
    "execution": {
     "iopub.execute_input": "2023-03-15T12:05:01.283041Z",
     "iopub.status.busy": "2023-03-15T12:05:01.282592Z",
     "iopub.status.idle": "2023-03-15T12:05:01.301381Z",
     "shell.execute_reply": "2023-03-15T12:05:01.299932Z"
    },
    "papermill": {
     "duration": 0.031575,
     "end_time": "2023-03-15T12:05:01.304027",
     "exception": false,
     "start_time": "2023-03-15T12:05:01.272452",
     "status": "completed"
    },
    "tags": []
   },
   "outputs": [
    {
     "data": {
      "text/html": [
       "<div>\n",
       "<style scoped>\n",
       "    .dataframe tbody tr th:only-of-type {\n",
       "        vertical-align: middle;\n",
       "    }\n",
       "\n",
       "    .dataframe tbody tr th {\n",
       "        vertical-align: top;\n",
       "    }\n",
       "\n",
       "    .dataframe thead th {\n",
       "        text-align: right;\n",
       "    }\n",
       "</style>\n",
       "<table border=\"1\" class=\"dataframe\">\n",
       "  <thead>\n",
       "    <tr style=\"text-align: right;\">\n",
       "      <th></th>\n",
       "      <th>id</th>\n",
       "      <th>Destination</th>\n",
       "      <th>Feedback</th>\n",
       "      <th>Avg Rating</th>\n",
       "      <th>All in Hotels</th>\n",
       "      <th>Most Popular</th>\n",
       "    </tr>\n",
       "  </thead>\n",
       "  <tbody>\n",
       "    <tr>\n",
       "      <th>7</th>\n",
       "      <td>8.0</td>\n",
       "      <td>France</td>\n",
       "      <td>6.0</td>\n",
       "      <td>3.0</td>\n",
       "      <td>24.0</td>\n",
       "      <td>Nantes</td>\n",
       "    </tr>\n",
       "    <tr>\n",
       "      <th>8</th>\n",
       "      <td>9.0</td>\n",
       "      <td>India</td>\n",
       "      <td>8.0</td>\n",
       "      <td>3.0</td>\n",
       "      <td>45.0</td>\n",
       "      <td>Ladakh</td>\n",
       "    </tr>\n",
       "    <tr>\n",
       "      <th>9</th>\n",
       "      <td>10.0</td>\n",
       "      <td>Indonesia</td>\n",
       "      <td>9.0</td>\n",
       "      <td>4.0</td>\n",
       "      <td>80.0</td>\n",
       "      <td>Aceh</td>\n",
       "    </tr>\n",
       "    <tr>\n",
       "      <th>10</th>\n",
       "      <td>11.0</td>\n",
       "      <td>Japan</td>\n",
       "      <td>10.0</td>\n",
       "      <td>5.0</td>\n",
       "      <td>90.0</td>\n",
       "      <td>Beppu</td>\n",
       "    </tr>\n",
       "    <tr>\n",
       "      <th>11</th>\n",
       "      <td>12.0</td>\n",
       "      <td>Turkey</td>\n",
       "      <td>9.0</td>\n",
       "      <td>4.0</td>\n",
       "      <td>54.0</td>\n",
       "      <td>Faralya</td>\n",
       "    </tr>\n",
       "    <tr>\n",
       "      <th>12</th>\n",
       "      <td>13.0</td>\n",
       "      <td>Palestine</td>\n",
       "      <td>9.0</td>\n",
       "      <td>3.0</td>\n",
       "      <td>5.0</td>\n",
       "      <td>Jerusalem</td>\n",
       "    </tr>\n",
       "    <tr>\n",
       "      <th>13</th>\n",
       "      <td>14.0</td>\n",
       "      <td>Oman</td>\n",
       "      <td>7.0</td>\n",
       "      <td>5.0</td>\n",
       "      <td>2.0</td>\n",
       "      <td>Bahla</td>\n",
       "    </tr>\n",
       "    <tr>\n",
       "      <th>14</th>\n",
       "      <td>15.0</td>\n",
       "      <td>United Kingdom</td>\n",
       "      <td>7.0</td>\n",
       "      <td>4.0</td>\n",
       "      <td>20.0</td>\n",
       "      <td>London</td>\n",
       "    </tr>\n",
       "    <tr>\n",
       "      <th>15</th>\n",
       "      <td>NaN</td>\n",
       "      <td>NaN</td>\n",
       "      <td>NaN</td>\n",
       "      <td>NaN</td>\n",
       "      <td>NaN</td>\n",
       "      <td>NaN</td>\n",
       "    </tr>\n",
       "    <tr>\n",
       "      <th>16</th>\n",
       "      <td>NaN</td>\n",
       "      <td>NaN</td>\n",
       "      <td>NaN</td>\n",
       "      <td>NaN</td>\n",
       "      <td>NaN</td>\n",
       "      <td>NaN</td>\n",
       "    </tr>\n",
       "  </tbody>\n",
       "</table>\n",
       "</div>"
      ],
      "text/plain": [
       "      id     Destination  Feedback  Avg Rating  All in Hotels Most Popular\n",
       "7    8.0          France       6.0         3.0           24.0       Nantes\n",
       "8    9.0           India       8.0         3.0           45.0       Ladakh\n",
       "9   10.0       Indonesia       9.0         4.0           80.0         Aceh\n",
       "10  11.0           Japan      10.0         5.0           90.0        Beppu\n",
       "11  12.0          Turkey       9.0         4.0           54.0      Faralya\n",
       "12  13.0       Palestine       9.0         3.0            5.0    Jerusalem\n",
       "13  14.0            Oman       7.0         5.0            2.0        Bahla\n",
       "14  15.0  United Kingdom       7.0         4.0           20.0       London\n",
       "15   NaN             NaN       NaN         NaN            NaN          NaN\n",
       "16   NaN             NaN       NaN         NaN            NaN          NaN"
      ]
     },
     "execution_count": 4,
     "metadata": {},
     "output_type": "execute_result"
    }
   ],
   "source": [
    "df.tail(10)"
   ]
  },
  {
   "cell_type": "markdown",
   "id": "84e336c2",
   "metadata": {
    "papermill": {
     "duration": 0.008529,
     "end_time": "2023-03-15T12:05:01.322641",
     "exception": false,
     "start_time": "2023-03-15T12:05:01.314112",
     "status": "completed"
    },
    "tags": []
   },
   "source": [
    "# Pandas Two Main Data Structures\n",
    "1. Series\n",
    "2. Dataframs - regular \n"
   ]
  },
  {
   "cell_type": "markdown",
   "id": "86ebc1cf",
   "metadata": {
    "papermill": {
     "duration": 0.008757,
     "end_time": "2023-03-15T12:05:01.340814",
     "exception": false,
     "start_time": "2023-03-15T12:05:01.332057",
     "status": "completed"
    },
    "tags": []
   },
   "source": [
    "1 Series data structure as follows:"
   ]
  },
  {
   "cell_type": "code",
   "execution_count": 5,
   "id": "03a1ce35",
   "metadata": {
    "execution": {
     "iopub.execute_input": "2023-03-15T12:05:01.362155Z",
     "iopub.status.busy": "2023-03-15T12:05:01.361604Z",
     "iopub.status.idle": "2023-03-15T12:05:01.375057Z",
     "shell.execute_reply": "2023-03-15T12:05:01.373621Z"
    },
    "papermill": {
     "duration": 0.02724,
     "end_time": "2023-03-15T12:05:01.377706",
     "exception": false,
     "start_time": "2023-03-15T12:05:01.350466",
     "status": "completed"
    },
    "tags": []
   },
   "outputs": [
    {
     "data": {
      "text/plain": [
       "0        New Zealand\n",
       "1         North Pole\n",
       "2       Turkmenistan\n",
       "3             Russia\n",
       "4            Austria\n",
       "5              China\n",
       "6              Italy\n",
       "7             France\n",
       "8              India\n",
       "9          Indonesia\n",
       "10             Japan\n",
       "11            Turkey\n",
       "12         Palestine\n",
       "13              Oman\n",
       "14    United Kingdom\n",
       "15               NaN\n",
       "16               NaN\n",
       "Name: Destination, dtype: object"
      ]
     },
     "execution_count": 5,
     "metadata": {},
     "output_type": "execute_result"
    }
   ],
   "source": [
    "df.Destination # series, will display data as a single column"
   ]
  },
  {
   "cell_type": "code",
   "execution_count": 6,
   "id": "06467e18",
   "metadata": {
    "execution": {
     "iopub.execute_input": "2023-03-15T12:05:01.399411Z",
     "iopub.status.busy": "2023-03-15T12:05:01.398965Z",
     "iopub.status.idle": "2023-03-15T12:05:01.407198Z",
     "shell.execute_reply": "2023-03-15T12:05:01.405879Z"
    },
    "papermill": {
     "duration": 0.023227,
     "end_time": "2023-03-15T12:05:01.410107",
     "exception": false,
     "start_time": "2023-03-15T12:05:01.386880",
     "status": "completed"
    },
    "tags": []
   },
   "outputs": [
    {
     "data": {
      "text/plain": [
       "Index(['id', 'Destination', 'Feedback', 'Avg Rating', 'All in Hotels',\n",
       "       'Most Popular'],\n",
       "      dtype='object')"
      ]
     },
     "execution_count": 6,
     "metadata": {},
     "output_type": "execute_result"
    }
   ],
   "source": [
    "df.columns # this displays titles of all columns"
   ]
  },
  {
   "cell_type": "code",
   "execution_count": 7,
   "id": "7b3906ed",
   "metadata": {
    "execution": {
     "iopub.execute_input": "2023-03-15T12:05:01.431338Z",
     "iopub.status.busy": "2023-03-15T12:05:01.430884Z",
     "iopub.status.idle": "2023-03-15T12:05:01.439085Z",
     "shell.execute_reply": "2023-03-15T12:05:01.437617Z"
    },
    "papermill": {
     "duration": 0.022464,
     "end_time": "2023-03-15T12:05:01.441837",
     "exception": false,
     "start_time": "2023-03-15T12:05:01.419373",
     "status": "completed"
    },
    "tags": []
   },
   "outputs": [
    {
     "data": {
      "text/plain": [
       "RangeIndex(start=0, stop=17, step=1)"
      ]
     },
     "execution_count": 7,
     "metadata": {},
     "output_type": "execute_result"
    }
   ],
   "source": [
    "df.index"
   ]
  },
  {
   "cell_type": "markdown",
   "id": "c4bf70b4",
   "metadata": {
    "papermill": {
     "duration": 0.009435,
     "end_time": "2023-03-15T12:05:01.460579",
     "exception": false,
     "start_time": "2023-03-15T12:05:01.451144",
     "status": "completed"
    },
    "tags": []
   },
   "source": [
    "How many rows and columns does the dataset has?"
   ]
  },
  {
   "cell_type": "code",
   "execution_count": 8,
   "id": "06156654",
   "metadata": {
    "execution": {
     "iopub.execute_input": "2023-03-15T12:05:01.481873Z",
     "iopub.status.busy": "2023-03-15T12:05:01.481424Z",
     "iopub.status.idle": "2023-03-15T12:05:01.489545Z",
     "shell.execute_reply": "2023-03-15T12:05:01.487726Z"
    },
    "papermill": {
     "duration": 0.022332,
     "end_time": "2023-03-15T12:05:01.492294",
     "exception": false,
     "start_time": "2023-03-15T12:05:01.469962",
     "status": "completed"
    },
    "tags": []
   },
   "outputs": [
    {
     "data": {
      "text/plain": [
       "(17, 6)"
      ]
     },
     "execution_count": 8,
     "metadata": {},
     "output_type": "execute_result"
    }
   ],
   "source": [
    "df.shape # return a tuple (rows, columns)"
   ]
  },
  {
   "cell_type": "code",
   "execution_count": 9,
   "id": "6e5e9dd2",
   "metadata": {
    "execution": {
     "iopub.execute_input": "2023-03-15T12:05:01.513689Z",
     "iopub.status.busy": "2023-03-15T12:05:01.513193Z",
     "iopub.status.idle": "2023-03-15T12:05:01.522606Z",
     "shell.execute_reply": "2023-03-15T12:05:01.521579Z"
    },
    "papermill": {
     "duration": 0.02327,
     "end_time": "2023-03-15T12:05:01.525098",
     "exception": false,
     "start_time": "2023-03-15T12:05:01.501828",
     "status": "completed"
    },
    "tags": []
   },
   "outputs": [
    {
     "data": {
      "text/plain": [
       "id               float64\n",
       "Destination       object\n",
       "Feedback         float64\n",
       "Avg Rating       float64\n",
       "All in Hotels    float64\n",
       "Most Popular      object\n",
       "dtype: object"
      ]
     },
     "execution_count": 9,
     "metadata": {},
     "output_type": "execute_result"
    }
   ],
   "source": [
    "df.dtypes # will display dara type stored in each row, Object = String"
   ]
  },
  {
   "cell_type": "code",
   "execution_count": 10,
   "id": "06e7861d",
   "metadata": {
    "execution": {
     "iopub.execute_input": "2023-03-15T12:05:01.546403Z",
     "iopub.status.busy": "2023-03-15T12:05:01.545880Z",
     "iopub.status.idle": "2023-03-15T12:05:01.574366Z",
     "shell.execute_reply": "2023-03-15T12:05:01.572572Z"
    },
    "papermill": {
     "duration": 0.043593,
     "end_time": "2023-03-15T12:05:01.578345",
     "exception": false,
     "start_time": "2023-03-15T12:05:01.534752",
     "status": "completed"
    },
    "tags": []
   },
   "outputs": [
    {
     "name": "stdout",
     "output_type": "stream",
     "text": [
      "<class 'pandas.core.frame.DataFrame'>\n",
      "RangeIndex: 17 entries, 0 to 16\n",
      "Data columns (total 6 columns):\n",
      " #   Column         Non-Null Count  Dtype  \n",
      "---  ------         --------------  -----  \n",
      " 0   id             15 non-null     float64\n",
      " 1   Destination    15 non-null     object \n",
      " 2   Feedback       15 non-null     float64\n",
      " 3   Avg Rating     15 non-null     float64\n",
      " 4   All in Hotels  15 non-null     float64\n",
      " 5   Most Popular   15 non-null     object \n",
      "dtypes: float64(4), object(2)\n",
      "memory usage: 944.0+ bytes\n"
     ]
    }
   ],
   "source": [
    "df.info() # information about the datafram"
   ]
  },
  {
   "cell_type": "code",
   "execution_count": 11,
   "id": "ed25521f",
   "metadata": {
    "execution": {
     "iopub.execute_input": "2023-03-15T12:05:01.601549Z",
     "iopub.status.busy": "2023-03-15T12:05:01.601059Z",
     "iopub.status.idle": "2023-03-15T12:05:01.612706Z",
     "shell.execute_reply": "2023-03-15T12:05:01.611156Z"
    },
    "papermill": {
     "duration": 0.02621,
     "end_time": "2023-03-15T12:05:01.615865",
     "exception": false,
     "start_time": "2023-03-15T12:05:01.589655",
     "status": "completed"
    },
    "tags": []
   },
   "outputs": [
    {
     "data": {
      "text/plain": [
       "0      9.0\n",
       "1      8.0\n",
       "2      7.0\n",
       "3      8.0\n",
       "4      9.0\n",
       "5      8.0\n",
       "6      9.0\n",
       "7      6.0\n",
       "8      8.0\n",
       "9      9.0\n",
       "10    10.0\n",
       "11     9.0\n",
       "12     9.0\n",
       "13     7.0\n",
       "14     7.0\n",
       "15     NaN\n",
       "16     NaN\n",
       "Name: Feedback, dtype: float64"
      ]
     },
     "execution_count": 11,
     "metadata": {},
     "output_type": "execute_result"
    }
   ],
   "source": [
    "df.Feedback # display only feedback column datas"
   ]
  },
  {
   "cell_type": "code",
   "execution_count": 12,
   "id": "9e99ae47",
   "metadata": {
    "execution": {
     "iopub.execute_input": "2023-03-15T12:05:01.638846Z",
     "iopub.status.busy": "2023-03-15T12:05:01.638347Z",
     "iopub.status.idle": "2023-03-15T12:05:01.651291Z",
     "shell.execute_reply": "2023-03-15T12:05:01.650216Z"
    },
    "papermill": {
     "duration": 0.027198,
     "end_time": "2023-03-15T12:05:01.653783",
     "exception": false,
     "start_time": "2023-03-15T12:05:01.626585",
     "status": "completed"
    },
    "tags": []
   },
   "outputs": [
    {
     "data": {
      "text/html": [
       "<div>\n",
       "<style scoped>\n",
       "    .dataframe tbody tr th:only-of-type {\n",
       "        vertical-align: middle;\n",
       "    }\n",
       "\n",
       "    .dataframe tbody tr th {\n",
       "        vertical-align: top;\n",
       "    }\n",
       "\n",
       "    .dataframe thead th {\n",
       "        text-align: right;\n",
       "    }\n",
       "</style>\n",
       "<table border=\"1\" class=\"dataframe\">\n",
       "  <thead>\n",
       "    <tr style=\"text-align: right;\">\n",
       "      <th></th>\n",
       "      <th>Destination</th>\n",
       "      <th>Feedback</th>\n",
       "    </tr>\n",
       "  </thead>\n",
       "  <tbody>\n",
       "    <tr>\n",
       "      <th>0</th>\n",
       "      <td>New Zealand</td>\n",
       "      <td>9.0</td>\n",
       "    </tr>\n",
       "    <tr>\n",
       "      <th>1</th>\n",
       "      <td>North Pole</td>\n",
       "      <td>8.0</td>\n",
       "    </tr>\n",
       "    <tr>\n",
       "      <th>2</th>\n",
       "      <td>Turkmenistan</td>\n",
       "      <td>7.0</td>\n",
       "    </tr>\n",
       "    <tr>\n",
       "      <th>3</th>\n",
       "      <td>Russia</td>\n",
       "      <td>8.0</td>\n",
       "    </tr>\n",
       "    <tr>\n",
       "      <th>4</th>\n",
       "      <td>Austria</td>\n",
       "      <td>9.0</td>\n",
       "    </tr>\n",
       "  </tbody>\n",
       "</table>\n",
       "</div>"
      ],
      "text/plain": [
       "    Destination  Feedback\n",
       "0   New Zealand       9.0\n",
       "1    North Pole       8.0\n",
       "2  Turkmenistan       7.0\n",
       "3        Russia       8.0\n",
       "4       Austria       9.0"
      ]
     },
     "execution_count": 12,
     "metadata": {},
     "output_type": "execute_result"
    }
   ],
   "source": [
    "df[['Destination', 'Feedback']].head() #select only twp columns from the frist 5 rows"
   ]
  },
  {
   "cell_type": "code",
   "execution_count": 13,
   "id": "a63b1698",
   "metadata": {
    "execution": {
     "iopub.execute_input": "2023-03-15T12:05:01.677572Z",
     "iopub.status.busy": "2023-03-15T12:05:01.677014Z",
     "iopub.status.idle": "2023-03-15T12:05:01.686939Z",
     "shell.execute_reply": "2023-03-15T12:05:01.685454Z"
    },
    "papermill": {
     "duration": 0.026085,
     "end_time": "2023-03-15T12:05:01.690359",
     "exception": false,
     "start_time": "2023-03-15T12:05:01.664274",
     "status": "completed"
    },
    "tags": []
   },
   "outputs": [
    {
     "data": {
      "text/plain": [
       "0           Rotura\n",
       "1         Svalbard\n",
       "2          Derweze\n",
       "3    Yekaterinburg\n",
       "4      Hinterbruhl\n",
       "Name: Most Popular, dtype: object"
      ]
     },
     "execution_count": 13,
     "metadata": {},
     "output_type": "execute_result"
    }
   ],
   "source": [
    "df['Most Popular'].head()"
   ]
  },
  {
   "cell_type": "code",
   "execution_count": 14,
   "id": "4a9d90d2",
   "metadata": {
    "execution": {
     "iopub.execute_input": "2023-03-15T12:05:01.713826Z",
     "iopub.status.busy": "2023-03-15T12:05:01.713356Z",
     "iopub.status.idle": "2023-03-15T12:05:01.731387Z",
     "shell.execute_reply": "2023-03-15T12:05:01.729761Z"
    },
    "papermill": {
     "duration": 0.032906,
     "end_time": "2023-03-15T12:05:01.734133",
     "exception": false,
     "start_time": "2023-03-15T12:05:01.701227",
     "status": "completed"
    },
    "tags": []
   },
   "outputs": [
    {
     "data": {
      "text/html": [
       "<div>\n",
       "<style scoped>\n",
       "    .dataframe tbody tr th:only-of-type {\n",
       "        vertical-align: middle;\n",
       "    }\n",
       "\n",
       "    .dataframe tbody tr th {\n",
       "        vertical-align: top;\n",
       "    }\n",
       "\n",
       "    .dataframe thead th {\n",
       "        text-align: right;\n",
       "    }\n",
       "</style>\n",
       "<table border=\"1\" class=\"dataframe\">\n",
       "  <thead>\n",
       "    <tr style=\"text-align: right;\">\n",
       "      <th></th>\n",
       "      <th>id</th>\n",
       "      <th>Destination</th>\n",
       "      <th>Feedback</th>\n",
       "      <th>Avg Rating</th>\n",
       "      <th>All in Hotels</th>\n",
       "      <th>Most Popular</th>\n",
       "    </tr>\n",
       "  </thead>\n",
       "  <tbody>\n",
       "    <tr>\n",
       "      <th>4</th>\n",
       "      <td>5.0</td>\n",
       "      <td>Austria</td>\n",
       "      <td>9.0</td>\n",
       "      <td>4.0</td>\n",
       "      <td>12.0</td>\n",
       "      <td>Hinterbruhl</td>\n",
       "    </tr>\n",
       "    <tr>\n",
       "      <th>5</th>\n",
       "      <td>6.0</td>\n",
       "      <td>China</td>\n",
       "      <td>8.0</td>\n",
       "      <td>3.0</td>\n",
       "      <td>198.0</td>\n",
       "      <td>Xinjiang</td>\n",
       "    </tr>\n",
       "    <tr>\n",
       "      <th>6</th>\n",
       "      <td>7.0</td>\n",
       "      <td>Italy</td>\n",
       "      <td>9.0</td>\n",
       "      <td>5.0</td>\n",
       "      <td>76.0</td>\n",
       "      <td>Puglia</td>\n",
       "    </tr>\n",
       "    <tr>\n",
       "      <th>7</th>\n",
       "      <td>8.0</td>\n",
       "      <td>France</td>\n",
       "      <td>6.0</td>\n",
       "      <td>3.0</td>\n",
       "      <td>24.0</td>\n",
       "      <td>Nantes</td>\n",
       "    </tr>\n",
       "    <tr>\n",
       "      <th>8</th>\n",
       "      <td>9.0</td>\n",
       "      <td>India</td>\n",
       "      <td>8.0</td>\n",
       "      <td>3.0</td>\n",
       "      <td>45.0</td>\n",
       "      <td>Ladakh</td>\n",
       "    </tr>\n",
       "    <tr>\n",
       "      <th>9</th>\n",
       "      <td>10.0</td>\n",
       "      <td>Indonesia</td>\n",
       "      <td>9.0</td>\n",
       "      <td>4.0</td>\n",
       "      <td>80.0</td>\n",
       "      <td>Aceh</td>\n",
       "    </tr>\n",
       "  </tbody>\n",
       "</table>\n",
       "</div>"
      ],
      "text/plain": [
       "     id Destination  Feedback  Avg Rating  All in Hotels Most Popular\n",
       "4   5.0     Austria       9.0         4.0           12.0  Hinterbruhl\n",
       "5   6.0       China       8.0         3.0          198.0     Xinjiang\n",
       "6   7.0       Italy       9.0         5.0           76.0       Puglia\n",
       "7   8.0      France       6.0         3.0           24.0       Nantes\n",
       "8   9.0       India       8.0         3.0           45.0       Ladakh\n",
       "9  10.0   Indonesia       9.0         4.0           80.0         Aceh"
      ]
     },
     "execution_count": 14,
     "metadata": {},
     "output_type": "execute_result"
    }
   ],
   "source": [
    "# use formal python indexing to select rows\n",
    "df[4:10]\n",
    "#Display rows 4-9"
   ]
  },
  {
   "cell_type": "code",
   "execution_count": 15,
   "id": "efad909e",
   "metadata": {
    "execution": {
     "iopub.execute_input": "2023-03-15T12:05:01.757668Z",
     "iopub.status.busy": "2023-03-15T12:05:01.757212Z",
     "iopub.status.idle": "2023-03-15T12:05:01.772221Z",
     "shell.execute_reply": "2023-03-15T12:05:01.770747Z"
    },
    "papermill": {
     "duration": 0.030217,
     "end_time": "2023-03-15T12:05:01.775173",
     "exception": false,
     "start_time": "2023-03-15T12:05:01.744956",
     "status": "completed"
    },
    "tags": []
   },
   "outputs": [
    {
     "data": {
      "text/html": [
       "<div>\n",
       "<style scoped>\n",
       "    .dataframe tbody tr th:only-of-type {\n",
       "        vertical-align: middle;\n",
       "    }\n",
       "\n",
       "    .dataframe tbody tr th {\n",
       "        vertical-align: top;\n",
       "    }\n",
       "\n",
       "    .dataframe thead th {\n",
       "        text-align: right;\n",
       "    }\n",
       "</style>\n",
       "<table border=\"1\" class=\"dataframe\">\n",
       "  <thead>\n",
       "    <tr style=\"text-align: right;\">\n",
       "      <th></th>\n",
       "      <th>Destination</th>\n",
       "      <th>Feedback</th>\n",
       "      <th>Avg Rating</th>\n",
       "    </tr>\n",
       "  </thead>\n",
       "  <tbody>\n",
       "    <tr>\n",
       "      <th>1</th>\n",
       "      <td>North Pole</td>\n",
       "      <td>8.0</td>\n",
       "      <td>4.0</td>\n",
       "    </tr>\n",
       "    <tr>\n",
       "      <th>2</th>\n",
       "      <td>Turkmenistan</td>\n",
       "      <td>7.0</td>\n",
       "      <td>3.0</td>\n",
       "    </tr>\n",
       "    <tr>\n",
       "      <th>3</th>\n",
       "      <td>Russia</td>\n",
       "      <td>8.0</td>\n",
       "      <td>5.0</td>\n",
       "    </tr>\n",
       "  </tbody>\n",
       "</table>\n",
       "</div>"
      ],
      "text/plain": [
       "    Destination  Feedback  Avg Rating\n",
       "1    North Pole       8.0         4.0\n",
       "2  Turkmenistan       7.0         3.0\n",
       "3        Russia       8.0         5.0"
      ]
     },
     "execution_count": 15,
     "metadata": {},
     "output_type": "execute_result"
    }
   ],
   "source": [
    "# use df.iloc [start:stop, [column0,column1,column2]]\n",
    "df.iloc[1:4, [1, 2, 3]]"
   ]
  },
  {
   "cell_type": "code",
   "execution_count": 16,
   "id": "b22e4e04",
   "metadata": {
    "execution": {
     "iopub.execute_input": "2023-03-15T12:05:01.799675Z",
     "iopub.status.busy": "2023-03-15T12:05:01.798397Z",
     "iopub.status.idle": "2023-03-15T12:05:01.817303Z",
     "shell.execute_reply": "2023-03-15T12:05:01.815882Z"
    },
    "papermill": {
     "duration": 0.033941,
     "end_time": "2023-03-15T12:05:01.820061",
     "exception": false,
     "start_time": "2023-03-15T12:05:01.786120",
     "status": "completed"
    },
    "tags": []
   },
   "outputs": [
    {
     "data": {
      "text/html": [
       "<div>\n",
       "<style scoped>\n",
       "    .dataframe tbody tr th:only-of-type {\n",
       "        vertical-align: middle;\n",
       "    }\n",
       "\n",
       "    .dataframe tbody tr th {\n",
       "        vertical-align: top;\n",
       "    }\n",
       "\n",
       "    .dataframe thead th {\n",
       "        text-align: right;\n",
       "    }\n",
       "</style>\n",
       "<table border=\"1\" class=\"dataframe\">\n",
       "  <thead>\n",
       "    <tr style=\"text-align: right;\">\n",
       "      <th></th>\n",
       "      <th>id</th>\n",
       "      <th>Destination</th>\n",
       "      <th>Feedback</th>\n",
       "      <th>Avg_Rating</th>\n",
       "      <th>All in Hotels</th>\n",
       "      <th>Most Popular</th>\n",
       "    </tr>\n",
       "  </thead>\n",
       "  <tbody>\n",
       "    <tr>\n",
       "      <th>0</th>\n",
       "      <td>1.0</td>\n",
       "      <td>New Zealand</td>\n",
       "      <td>9.0</td>\n",
       "      <td>4.0</td>\n",
       "      <td>5.0</td>\n",
       "      <td>Rotura</td>\n",
       "    </tr>\n",
       "    <tr>\n",
       "      <th>1</th>\n",
       "      <td>2.0</td>\n",
       "      <td>North Pole</td>\n",
       "      <td>8.0</td>\n",
       "      <td>4.0</td>\n",
       "      <td>6.0</td>\n",
       "      <td>Svalbard</td>\n",
       "    </tr>\n",
       "    <tr>\n",
       "      <th>2</th>\n",
       "      <td>3.0</td>\n",
       "      <td>Turkmenistan</td>\n",
       "      <td>7.0</td>\n",
       "      <td>3.0</td>\n",
       "      <td>9.0</td>\n",
       "      <td>Derweze</td>\n",
       "    </tr>\n",
       "    <tr>\n",
       "      <th>3</th>\n",
       "      <td>4.0</td>\n",
       "      <td>Russia</td>\n",
       "      <td>8.0</td>\n",
       "      <td>5.0</td>\n",
       "      <td>17.0</td>\n",
       "      <td>Yekaterinburg</td>\n",
       "    </tr>\n",
       "    <tr>\n",
       "      <th>4</th>\n",
       "      <td>5.0</td>\n",
       "      <td>Austria</td>\n",
       "      <td>9.0</td>\n",
       "      <td>4.0</td>\n",
       "      <td>12.0</td>\n",
       "      <td>Hinterbruhl</td>\n",
       "    </tr>\n",
       "  </tbody>\n",
       "</table>\n",
       "</div>"
      ],
      "text/plain": [
       "    id   Destination  Feedback  Avg_Rating  All in Hotels   Most Popular\n",
       "0  1.0   New Zealand       9.0         4.0            5.0         Rotura\n",
       "1  2.0    North Pole       8.0         4.0            6.0       Svalbard\n",
       "2  3.0  Turkmenistan       7.0         3.0            9.0        Derweze\n",
       "3  4.0        Russia       8.0         5.0           17.0  Yekaterinburg\n",
       "4  5.0       Austria       9.0         4.0           12.0    Hinterbruhl"
      ]
     },
     "execution_count": 16,
     "metadata": {},
     "output_type": "execute_result"
    }
   ],
   "source": [
    "df.rename(columns = {'Avg Rating' : 'Avg_Rating'}).head()"
   ]
  },
  {
   "cell_type": "code",
   "execution_count": 17,
   "id": "86f07f15",
   "metadata": {
    "execution": {
     "iopub.execute_input": "2023-03-15T12:05:01.845035Z",
     "iopub.status.busy": "2023-03-15T12:05:01.844561Z",
     "iopub.status.idle": "2023-03-15T12:05:01.862856Z",
     "shell.execute_reply": "2023-03-15T12:05:01.861423Z"
    },
    "papermill": {
     "duration": 0.035276,
     "end_time": "2023-03-15T12:05:01.866203",
     "exception": false,
     "start_time": "2023-03-15T12:05:01.830927",
     "status": "completed"
    },
    "tags": []
   },
   "outputs": [
    {
     "data": {
      "text/html": [
       "<div>\n",
       "<style scoped>\n",
       "    .dataframe tbody tr th:only-of-type {\n",
       "        vertical-align: middle;\n",
       "    }\n",
       "\n",
       "    .dataframe tbody tr th {\n",
       "        vertical-align: top;\n",
       "    }\n",
       "\n",
       "    .dataframe thead th {\n",
       "        text-align: right;\n",
       "    }\n",
       "</style>\n",
       "<table border=\"1\" class=\"dataframe\">\n",
       "  <thead>\n",
       "    <tr style=\"text-align: right;\">\n",
       "      <th></th>\n",
       "      <th>id</th>\n",
       "      <th>Destination</th>\n",
       "      <th>Feedback</th>\n",
       "      <th>Avg Rating</th>\n",
       "      <th>Hotel_Count</th>\n",
       "      <th>Most Popular</th>\n",
       "    </tr>\n",
       "  </thead>\n",
       "  <tbody>\n",
       "    <tr>\n",
       "      <th>0</th>\n",
       "      <td>1.0</td>\n",
       "      <td>New Zealand</td>\n",
       "      <td>9.0</td>\n",
       "      <td>4.0</td>\n",
       "      <td>5.0</td>\n",
       "      <td>Rotura</td>\n",
       "    </tr>\n",
       "    <tr>\n",
       "      <th>1</th>\n",
       "      <td>2.0</td>\n",
       "      <td>North Pole</td>\n",
       "      <td>8.0</td>\n",
       "      <td>4.0</td>\n",
       "      <td>6.0</td>\n",
       "      <td>Svalbard</td>\n",
       "    </tr>\n",
       "    <tr>\n",
       "      <th>2</th>\n",
       "      <td>3.0</td>\n",
       "      <td>Turkmenistan</td>\n",
       "      <td>7.0</td>\n",
       "      <td>3.0</td>\n",
       "      <td>9.0</td>\n",
       "      <td>Derweze</td>\n",
       "    </tr>\n",
       "    <tr>\n",
       "      <th>3</th>\n",
       "      <td>4.0</td>\n",
       "      <td>Russia</td>\n",
       "      <td>8.0</td>\n",
       "      <td>5.0</td>\n",
       "      <td>17.0</td>\n",
       "      <td>Yekaterinburg</td>\n",
       "    </tr>\n",
       "    <tr>\n",
       "      <th>4</th>\n",
       "      <td>5.0</td>\n",
       "      <td>Austria</td>\n",
       "      <td>9.0</td>\n",
       "      <td>4.0</td>\n",
       "      <td>12.0</td>\n",
       "      <td>Hinterbruhl</td>\n",
       "    </tr>\n",
       "  </tbody>\n",
       "</table>\n",
       "</div>"
      ],
      "text/plain": [
       "    id   Destination  Feedback  Avg Rating  Hotel_Count   Most Popular\n",
       "0  1.0   New Zealand       9.0         4.0          5.0         Rotura\n",
       "1  2.0    North Pole       8.0         4.0          6.0       Svalbard\n",
       "2  3.0  Turkmenistan       7.0         3.0          9.0        Derweze\n",
       "3  4.0        Russia       8.0         5.0         17.0  Yekaterinburg\n",
       "4  5.0       Austria       9.0         4.0         12.0    Hinterbruhl"
      ]
     },
     "execution_count": 17,
     "metadata": {},
     "output_type": "execute_result"
    }
   ],
   "source": [
    "df.rename(columns = {'All in Hotels' : 'Hotel_Count'}).head()"
   ]
  },
  {
   "cell_type": "code",
   "execution_count": 18,
   "id": "7ae6e263",
   "metadata": {
    "execution": {
     "iopub.execute_input": "2023-03-15T12:05:01.890536Z",
     "iopub.status.busy": "2023-03-15T12:05:01.890032Z",
     "iopub.status.idle": "2023-03-15T12:05:01.920811Z",
     "shell.execute_reply": "2023-03-15T12:05:01.919260Z"
    },
    "papermill": {
     "duration": 0.046386,
     "end_time": "2023-03-15T12:05:01.923728",
     "exception": false,
     "start_time": "2023-03-15T12:05:01.877342",
     "status": "completed"
    },
    "tags": []
   },
   "outputs": [
    {
     "data": {
      "text/html": [
       "<div>\n",
       "<style scoped>\n",
       "    .dataframe tbody tr th:only-of-type {\n",
       "        vertical-align: middle;\n",
       "    }\n",
       "\n",
       "    .dataframe tbody tr th {\n",
       "        vertical-align: top;\n",
       "    }\n",
       "\n",
       "    .dataframe thead th {\n",
       "        text-align: right;\n",
       "    }\n",
       "</style>\n",
       "<table border=\"1\" class=\"dataframe\">\n",
       "  <thead>\n",
       "    <tr style=\"text-align: right;\">\n",
       "      <th></th>\n",
       "      <th>id</th>\n",
       "      <th>Feedback</th>\n",
       "      <th>Avg Rating</th>\n",
       "      <th>All in Hotels</th>\n",
       "    </tr>\n",
       "  </thead>\n",
       "  <tbody>\n",
       "    <tr>\n",
       "      <th>count</th>\n",
       "      <td>15.000000</td>\n",
       "      <td>15.000000</td>\n",
       "      <td>15.000000</td>\n",
       "      <td>15.000000</td>\n",
       "    </tr>\n",
       "    <tr>\n",
       "      <th>mean</th>\n",
       "      <td>8.000000</td>\n",
       "      <td>8.200000</td>\n",
       "      <td>3.933333</td>\n",
       "      <td>42.866667</td>\n",
       "    </tr>\n",
       "    <tr>\n",
       "      <th>std</th>\n",
       "      <td>4.472136</td>\n",
       "      <td>1.082326</td>\n",
       "      <td>0.798809</td>\n",
       "      <td>52.398019</td>\n",
       "    </tr>\n",
       "    <tr>\n",
       "      <th>min</th>\n",
       "      <td>1.000000</td>\n",
       "      <td>6.000000</td>\n",
       "      <td>3.000000</td>\n",
       "      <td>2.000000</td>\n",
       "    </tr>\n",
       "    <tr>\n",
       "      <th>25%</th>\n",
       "      <td>4.500000</td>\n",
       "      <td>7.500000</td>\n",
       "      <td>3.000000</td>\n",
       "      <td>7.500000</td>\n",
       "    </tr>\n",
       "    <tr>\n",
       "      <th>50%</th>\n",
       "      <td>8.000000</td>\n",
       "      <td>8.000000</td>\n",
       "      <td>4.000000</td>\n",
       "      <td>20.000000</td>\n",
       "    </tr>\n",
       "    <tr>\n",
       "      <th>75%</th>\n",
       "      <td>11.500000</td>\n",
       "      <td>9.000000</td>\n",
       "      <td>4.500000</td>\n",
       "      <td>65.000000</td>\n",
       "    </tr>\n",
       "    <tr>\n",
       "      <th>max</th>\n",
       "      <td>15.000000</td>\n",
       "      <td>10.000000</td>\n",
       "      <td>5.000000</td>\n",
       "      <td>198.000000</td>\n",
       "    </tr>\n",
       "  </tbody>\n",
       "</table>\n",
       "</div>"
      ],
      "text/plain": [
       "              id   Feedback  Avg Rating  All in Hotels\n",
       "count  15.000000  15.000000   15.000000      15.000000\n",
       "mean    8.000000   8.200000    3.933333      42.866667\n",
       "std     4.472136   1.082326    0.798809      52.398019\n",
       "min     1.000000   6.000000    3.000000       2.000000\n",
       "25%     4.500000   7.500000    3.000000       7.500000\n",
       "50%     8.000000   8.000000    4.000000      20.000000\n",
       "75%    11.500000   9.000000    4.500000      65.000000\n",
       "max    15.000000  10.000000    5.000000     198.000000"
      ]
     },
     "execution_count": 18,
     "metadata": {},
     "output_type": "execute_result"
    }
   ],
   "source": [
    "df.describe() # get statistical analysis"
   ]
  },
  {
   "cell_type": "code",
   "execution_count": 19,
   "id": "5603d24f",
   "metadata": {
    "execution": {
     "iopub.execute_input": "2023-03-15T12:05:01.949214Z",
     "iopub.status.busy": "2023-03-15T12:05:01.948764Z",
     "iopub.status.idle": "2023-03-15T12:05:01.967700Z",
     "shell.execute_reply": "2023-03-15T12:05:01.966195Z"
    },
    "papermill": {
     "duration": 0.035583,
     "end_time": "2023-03-15T12:05:01.970859",
     "exception": false,
     "start_time": "2023-03-15T12:05:01.935276",
     "status": "completed"
    },
    "tags": []
   },
   "outputs": [
    {
     "data": {
      "text/html": [
       "<div>\n",
       "<style scoped>\n",
       "    .dataframe tbody tr th:only-of-type {\n",
       "        vertical-align: middle;\n",
       "    }\n",
       "\n",
       "    .dataframe tbody tr th {\n",
       "        vertical-align: top;\n",
       "    }\n",
       "\n",
       "    .dataframe thead th {\n",
       "        text-align: right;\n",
       "    }\n",
       "</style>\n",
       "<table border=\"1\" class=\"dataframe\">\n",
       "  <thead>\n",
       "    <tr style=\"text-align: right;\">\n",
       "      <th></th>\n",
       "      <th>id</th>\n",
       "      <th>Destination</th>\n",
       "      <th>Feedback</th>\n",
       "      <th>Avg Rating</th>\n",
       "      <th>All in Hotels</th>\n",
       "      <th>Most Popular</th>\n",
       "    </tr>\n",
       "  </thead>\n",
       "  <tbody>\n",
       "    <tr>\n",
       "      <th>7</th>\n",
       "      <td>8.0</td>\n",
       "      <td>France</td>\n",
       "      <td>6.0</td>\n",
       "      <td>3.0</td>\n",
       "      <td>24.0</td>\n",
       "      <td>Nantes</td>\n",
       "    </tr>\n",
       "    <tr>\n",
       "      <th>2</th>\n",
       "      <td>3.0</td>\n",
       "      <td>Turkmenistan</td>\n",
       "      <td>7.0</td>\n",
       "      <td>3.0</td>\n",
       "      <td>9.0</td>\n",
       "      <td>Derweze</td>\n",
       "    </tr>\n",
       "    <tr>\n",
       "      <th>13</th>\n",
       "      <td>14.0</td>\n",
       "      <td>Oman</td>\n",
       "      <td>7.0</td>\n",
       "      <td>5.0</td>\n",
       "      <td>2.0</td>\n",
       "      <td>Bahla</td>\n",
       "    </tr>\n",
       "    <tr>\n",
       "      <th>14</th>\n",
       "      <td>15.0</td>\n",
       "      <td>United Kingdom</td>\n",
       "      <td>7.0</td>\n",
       "      <td>4.0</td>\n",
       "      <td>20.0</td>\n",
       "      <td>London</td>\n",
       "    </tr>\n",
       "    <tr>\n",
       "      <th>1</th>\n",
       "      <td>2.0</td>\n",
       "      <td>North Pole</td>\n",
       "      <td>8.0</td>\n",
       "      <td>4.0</td>\n",
       "      <td>6.0</td>\n",
       "      <td>Svalbard</td>\n",
       "    </tr>\n",
       "  </tbody>\n",
       "</table>\n",
       "</div>"
      ],
      "text/plain": [
       "      id     Destination  Feedback  Avg Rating  All in Hotels Most Popular\n",
       "7    8.0          France       6.0         3.0           24.0       Nantes\n",
       "2    3.0    Turkmenistan       7.0         3.0            9.0      Derweze\n",
       "13  14.0            Oman       7.0         5.0            2.0        Bahla\n",
       "14  15.0  United Kingdom       7.0         4.0           20.0       London\n",
       "1    2.0      North Pole       8.0         4.0            6.0     Svalbard"
      ]
     },
     "execution_count": 19,
     "metadata": {},
     "output_type": "execute_result"
    }
   ],
   "source": [
    "df.sort_values('Feedback').head() #sorting the table according to the col slected"
   ]
  },
  {
   "cell_type": "code",
   "execution_count": 20,
   "id": "ed1f834e",
   "metadata": {
    "execution": {
     "iopub.execute_input": "2023-03-15T12:05:01.996092Z",
     "iopub.status.busy": "2023-03-15T12:05:01.995611Z",
     "iopub.status.idle": "2023-03-15T12:05:02.014650Z",
     "shell.execute_reply": "2023-03-15T12:05:02.013105Z"
    },
    "papermill": {
     "duration": 0.03507,
     "end_time": "2023-03-15T12:05:02.017848",
     "exception": false,
     "start_time": "2023-03-15T12:05:01.982778",
     "status": "completed"
    },
    "tags": []
   },
   "outputs": [
    {
     "data": {
      "text/html": [
       "<div>\n",
       "<style scoped>\n",
       "    .dataframe tbody tr th:only-of-type {\n",
       "        vertical-align: middle;\n",
       "    }\n",
       "\n",
       "    .dataframe tbody tr th {\n",
       "        vertical-align: top;\n",
       "    }\n",
       "\n",
       "    .dataframe thead th {\n",
       "        text-align: right;\n",
       "    }\n",
       "</style>\n",
       "<table border=\"1\" class=\"dataframe\">\n",
       "  <thead>\n",
       "    <tr style=\"text-align: right;\">\n",
       "      <th></th>\n",
       "      <th>id</th>\n",
       "      <th>Destination</th>\n",
       "      <th>Feedback</th>\n",
       "      <th>Avg Rating</th>\n",
       "      <th>All in Hotels</th>\n",
       "      <th>Most Popular</th>\n",
       "    </tr>\n",
       "  </thead>\n",
       "  <tbody>\n",
       "    <tr>\n",
       "      <th>10</th>\n",
       "      <td>11.0</td>\n",
       "      <td>Japan</td>\n",
       "      <td>10.0</td>\n",
       "      <td>5.0</td>\n",
       "      <td>90.0</td>\n",
       "      <td>Beppu</td>\n",
       "    </tr>\n",
       "    <tr>\n",
       "      <th>0</th>\n",
       "      <td>1.0</td>\n",
       "      <td>New Zealand</td>\n",
       "      <td>9.0</td>\n",
       "      <td>4.0</td>\n",
       "      <td>5.0</td>\n",
       "      <td>Rotura</td>\n",
       "    </tr>\n",
       "    <tr>\n",
       "      <th>4</th>\n",
       "      <td>5.0</td>\n",
       "      <td>Austria</td>\n",
       "      <td>9.0</td>\n",
       "      <td>4.0</td>\n",
       "      <td>12.0</td>\n",
       "      <td>Hinterbruhl</td>\n",
       "    </tr>\n",
       "    <tr>\n",
       "      <th>6</th>\n",
       "      <td>7.0</td>\n",
       "      <td>Italy</td>\n",
       "      <td>9.0</td>\n",
       "      <td>5.0</td>\n",
       "      <td>76.0</td>\n",
       "      <td>Puglia</td>\n",
       "    </tr>\n",
       "    <tr>\n",
       "      <th>9</th>\n",
       "      <td>10.0</td>\n",
       "      <td>Indonesia</td>\n",
       "      <td>9.0</td>\n",
       "      <td>4.0</td>\n",
       "      <td>80.0</td>\n",
       "      <td>Aceh</td>\n",
       "    </tr>\n",
       "  </tbody>\n",
       "</table>\n",
       "</div>"
      ],
      "text/plain": [
       "      id  Destination  Feedback  Avg Rating  All in Hotels Most Popular\n",
       "10  11.0        Japan      10.0         5.0           90.0        Beppu\n",
       "0    1.0  New Zealand       9.0         4.0            5.0       Rotura\n",
       "4    5.0      Austria       9.0         4.0           12.0  Hinterbruhl\n",
       "6    7.0        Italy       9.0         5.0           76.0       Puglia\n",
       "9   10.0    Indonesia       9.0         4.0           80.0         Aceh"
      ]
     },
     "execution_count": 20,
     "metadata": {},
     "output_type": "execute_result"
    }
   ],
   "source": [
    "df.sort_values('Feedback', ascending = False).head() #sorting the table according to the col slected"
   ]
  },
  {
   "cell_type": "code",
   "execution_count": 21,
   "id": "5afa0c76",
   "metadata": {
    "execution": {
     "iopub.execute_input": "2023-03-15T12:05:02.043230Z",
     "iopub.status.busy": "2023-03-15T12:05:02.042786Z",
     "iopub.status.idle": "2023-03-15T12:05:02.061197Z",
     "shell.execute_reply": "2023-03-15T12:05:02.059509Z"
    },
    "papermill": {
     "duration": 0.034847,
     "end_time": "2023-03-15T12:05:02.064368",
     "exception": false,
     "start_time": "2023-03-15T12:05:02.029521",
     "status": "completed"
    },
    "tags": []
   },
   "outputs": [
    {
     "data": {
      "text/html": [
       "<div>\n",
       "<style scoped>\n",
       "    .dataframe tbody tr th:only-of-type {\n",
       "        vertical-align: middle;\n",
       "    }\n",
       "\n",
       "    .dataframe tbody tr th {\n",
       "        vertical-align: top;\n",
       "    }\n",
       "\n",
       "    .dataframe thead th {\n",
       "        text-align: right;\n",
       "    }\n",
       "</style>\n",
       "<table border=\"1\" class=\"dataframe\">\n",
       "  <thead>\n",
       "    <tr style=\"text-align: right;\">\n",
       "      <th></th>\n",
       "      <th>id</th>\n",
       "      <th>Destination</th>\n",
       "      <th>Feedback</th>\n",
       "      <th>Avg Rating</th>\n",
       "      <th>All in Hotels</th>\n",
       "      <th>Most Popular</th>\n",
       "    </tr>\n",
       "  </thead>\n",
       "  <tbody>\n",
       "    <tr>\n",
       "      <th>7</th>\n",
       "      <td>8.0</td>\n",
       "      <td>France</td>\n",
       "      <td>6.0</td>\n",
       "      <td>3.0</td>\n",
       "      <td>24.0</td>\n",
       "      <td>Nantes</td>\n",
       "    </tr>\n",
       "    <tr>\n",
       "      <th>2</th>\n",
       "      <td>3.0</td>\n",
       "      <td>Turkmenistan</td>\n",
       "      <td>7.0</td>\n",
       "      <td>3.0</td>\n",
       "      <td>9.0</td>\n",
       "      <td>Derweze</td>\n",
       "    </tr>\n",
       "    <tr>\n",
       "      <th>13</th>\n",
       "      <td>14.0</td>\n",
       "      <td>Oman</td>\n",
       "      <td>7.0</td>\n",
       "      <td>5.0</td>\n",
       "      <td>2.0</td>\n",
       "      <td>Bahla</td>\n",
       "    </tr>\n",
       "    <tr>\n",
       "      <th>14</th>\n",
       "      <td>15.0</td>\n",
       "      <td>United Kingdom</td>\n",
       "      <td>7.0</td>\n",
       "      <td>4.0</td>\n",
       "      <td>20.0</td>\n",
       "      <td>London</td>\n",
       "    </tr>\n",
       "    <tr>\n",
       "      <th>1</th>\n",
       "      <td>2.0</td>\n",
       "      <td>North Pole</td>\n",
       "      <td>8.0</td>\n",
       "      <td>4.0</td>\n",
       "      <td>6.0</td>\n",
       "      <td>Svalbard</td>\n",
       "    </tr>\n",
       "  </tbody>\n",
       "</table>\n",
       "</div>"
      ],
      "text/plain": [
       "      id     Destination  Feedback  Avg Rating  All in Hotels Most Popular\n",
       "7    8.0          France       6.0         3.0           24.0       Nantes\n",
       "2    3.0    Turkmenistan       7.0         3.0            9.0      Derweze\n",
       "13  14.0            Oman       7.0         5.0            2.0        Bahla\n",
       "14  15.0  United Kingdom       7.0         4.0           20.0       London\n",
       "1    2.0      North Pole       8.0         4.0            6.0     Svalbard"
      ]
     },
     "execution_count": 21,
     "metadata": {},
     "output_type": "execute_result"
    }
   ],
   "source": [
    "df.sort_values('Feedback', ascending = True).head() #sorting the table according to the col slected"
   ]
  },
  {
   "cell_type": "code",
   "execution_count": 22,
   "id": "88fca73c",
   "metadata": {
    "execution": {
     "iopub.execute_input": "2023-03-15T12:05:02.089987Z",
     "iopub.status.busy": "2023-03-15T12:05:02.089547Z",
     "iopub.status.idle": "2023-03-15T12:05:02.118901Z",
     "shell.execute_reply": "2023-03-15T12:05:02.117470Z"
    },
    "papermill": {
     "duration": 0.046221,
     "end_time": "2023-03-15T12:05:02.122306",
     "exception": false,
     "start_time": "2023-03-15T12:05:02.076085",
     "status": "completed"
    },
    "tags": []
   },
   "outputs": [
    {
     "data": {
      "text/html": [
       "<div>\n",
       "<style scoped>\n",
       "    .dataframe tbody tr th:only-of-type {\n",
       "        vertical-align: middle;\n",
       "    }\n",
       "\n",
       "    .dataframe tbody tr th {\n",
       "        vertical-align: top;\n",
       "    }\n",
       "\n",
       "    .dataframe thead th {\n",
       "        text-align: right;\n",
       "    }\n",
       "</style>\n",
       "<table border=\"1\" class=\"dataframe\">\n",
       "  <thead>\n",
       "    <tr style=\"text-align: right;\">\n",
       "      <th></th>\n",
       "      <th>id</th>\n",
       "      <th>Destination</th>\n",
       "      <th>Feedback</th>\n",
       "      <th>Avg Rating</th>\n",
       "      <th>All in Hotels</th>\n",
       "      <th>Most Popular</th>\n",
       "    </tr>\n",
       "  </thead>\n",
       "  <tbody>\n",
       "    <tr>\n",
       "      <th>4</th>\n",
       "      <td>5.0</td>\n",
       "      <td>Austria</td>\n",
       "      <td>9.0</td>\n",
       "      <td>4.0</td>\n",
       "      <td>12.0</td>\n",
       "      <td>Hinterbruhl</td>\n",
       "    </tr>\n",
       "    <tr>\n",
       "      <th>5</th>\n",
       "      <td>6.0</td>\n",
       "      <td>China</td>\n",
       "      <td>8.0</td>\n",
       "      <td>3.0</td>\n",
       "      <td>198.0</td>\n",
       "      <td>Xinjiang</td>\n",
       "    </tr>\n",
       "    <tr>\n",
       "      <th>7</th>\n",
       "      <td>8.0</td>\n",
       "      <td>France</td>\n",
       "      <td>6.0</td>\n",
       "      <td>3.0</td>\n",
       "      <td>24.0</td>\n",
       "      <td>Nantes</td>\n",
       "    </tr>\n",
       "    <tr>\n",
       "      <th>8</th>\n",
       "      <td>9.0</td>\n",
       "      <td>India</td>\n",
       "      <td>8.0</td>\n",
       "      <td>3.0</td>\n",
       "      <td>45.0</td>\n",
       "      <td>Ladakh</td>\n",
       "    </tr>\n",
       "    <tr>\n",
       "      <th>9</th>\n",
       "      <td>10.0</td>\n",
       "      <td>Indonesia</td>\n",
       "      <td>9.0</td>\n",
       "      <td>4.0</td>\n",
       "      <td>80.0</td>\n",
       "      <td>Aceh</td>\n",
       "    </tr>\n",
       "    <tr>\n",
       "      <th>6</th>\n",
       "      <td>7.0</td>\n",
       "      <td>Italy</td>\n",
       "      <td>9.0</td>\n",
       "      <td>5.0</td>\n",
       "      <td>76.0</td>\n",
       "      <td>Puglia</td>\n",
       "    </tr>\n",
       "    <tr>\n",
       "      <th>10</th>\n",
       "      <td>11.0</td>\n",
       "      <td>Japan</td>\n",
       "      <td>10.0</td>\n",
       "      <td>5.0</td>\n",
       "      <td>90.0</td>\n",
       "      <td>Beppu</td>\n",
       "    </tr>\n",
       "    <tr>\n",
       "      <th>0</th>\n",
       "      <td>1.0</td>\n",
       "      <td>New Zealand</td>\n",
       "      <td>9.0</td>\n",
       "      <td>4.0</td>\n",
       "      <td>5.0</td>\n",
       "      <td>Rotura</td>\n",
       "    </tr>\n",
       "    <tr>\n",
       "      <th>1</th>\n",
       "      <td>2.0</td>\n",
       "      <td>North Pole</td>\n",
       "      <td>8.0</td>\n",
       "      <td>4.0</td>\n",
       "      <td>6.0</td>\n",
       "      <td>Svalbard</td>\n",
       "    </tr>\n",
       "    <tr>\n",
       "      <th>13</th>\n",
       "      <td>14.0</td>\n",
       "      <td>Oman</td>\n",
       "      <td>7.0</td>\n",
       "      <td>5.0</td>\n",
       "      <td>2.0</td>\n",
       "      <td>Bahla</td>\n",
       "    </tr>\n",
       "    <tr>\n",
       "      <th>12</th>\n",
       "      <td>13.0</td>\n",
       "      <td>Palestine</td>\n",
       "      <td>9.0</td>\n",
       "      <td>3.0</td>\n",
       "      <td>5.0</td>\n",
       "      <td>Jerusalem</td>\n",
       "    </tr>\n",
       "    <tr>\n",
       "      <th>3</th>\n",
       "      <td>4.0</td>\n",
       "      <td>Russia</td>\n",
       "      <td>8.0</td>\n",
       "      <td>5.0</td>\n",
       "      <td>17.0</td>\n",
       "      <td>Yekaterinburg</td>\n",
       "    </tr>\n",
       "    <tr>\n",
       "      <th>11</th>\n",
       "      <td>12.0</td>\n",
       "      <td>Turkey</td>\n",
       "      <td>9.0</td>\n",
       "      <td>4.0</td>\n",
       "      <td>54.0</td>\n",
       "      <td>Faralya</td>\n",
       "    </tr>\n",
       "    <tr>\n",
       "      <th>2</th>\n",
       "      <td>3.0</td>\n",
       "      <td>Turkmenistan</td>\n",
       "      <td>7.0</td>\n",
       "      <td>3.0</td>\n",
       "      <td>9.0</td>\n",
       "      <td>Derweze</td>\n",
       "    </tr>\n",
       "    <tr>\n",
       "      <th>14</th>\n",
       "      <td>15.0</td>\n",
       "      <td>United Kingdom</td>\n",
       "      <td>7.0</td>\n",
       "      <td>4.0</td>\n",
       "      <td>20.0</td>\n",
       "      <td>London</td>\n",
       "    </tr>\n",
       "    <tr>\n",
       "      <th>15</th>\n",
       "      <td>NaN</td>\n",
       "      <td>NaN</td>\n",
       "      <td>NaN</td>\n",
       "      <td>NaN</td>\n",
       "      <td>NaN</td>\n",
       "      <td>NaN</td>\n",
       "    </tr>\n",
       "    <tr>\n",
       "      <th>16</th>\n",
       "      <td>NaN</td>\n",
       "      <td>NaN</td>\n",
       "      <td>NaN</td>\n",
       "      <td>NaN</td>\n",
       "      <td>NaN</td>\n",
       "      <td>NaN</td>\n",
       "    </tr>\n",
       "  </tbody>\n",
       "</table>\n",
       "</div>"
      ],
      "text/plain": [
       "      id     Destination  Feedback  Avg Rating  All in Hotels   Most Popular\n",
       "4    5.0         Austria       9.0         4.0           12.0    Hinterbruhl\n",
       "5    6.0           China       8.0         3.0          198.0       Xinjiang\n",
       "7    8.0          France       6.0         3.0           24.0         Nantes\n",
       "8    9.0           India       8.0         3.0           45.0         Ladakh\n",
       "9   10.0       Indonesia       9.0         4.0           80.0           Aceh\n",
       "6    7.0           Italy       9.0         5.0           76.0         Puglia\n",
       "10  11.0           Japan      10.0         5.0           90.0          Beppu\n",
       "0    1.0     New Zealand       9.0         4.0            5.0         Rotura\n",
       "1    2.0      North Pole       8.0         4.0            6.0       Svalbard\n",
       "13  14.0            Oman       7.0         5.0            2.0          Bahla\n",
       "12  13.0       Palestine       9.0         3.0            5.0      Jerusalem\n",
       "3    4.0          Russia       8.0         5.0           17.0  Yekaterinburg\n",
       "11  12.0          Turkey       9.0         4.0           54.0        Faralya\n",
       "2    3.0    Turkmenistan       7.0         3.0            9.0        Derweze\n",
       "14  15.0  United Kingdom       7.0         4.0           20.0         London\n",
       "15   NaN             NaN       NaN         NaN            NaN            NaN\n",
       "16   NaN             NaN       NaN         NaN            NaN            NaN"
      ]
     },
     "execution_count": 22,
     "metadata": {},
     "output_type": "execute_result"
    }
   ],
   "source": [
    "df.sort_values(['Destination', 'Avg Rating'], ascending = [True, False])\n",
    "# First, sort Destination col in ascending format\n",
    "# Second, sort Avg Rating col in descending format"
   ]
  },
  {
   "cell_type": "code",
   "execution_count": 23,
   "id": "d9447df2",
   "metadata": {
    "execution": {
     "iopub.execute_input": "2023-03-15T12:05:02.148695Z",
     "iopub.status.busy": "2023-03-15T12:05:02.148243Z",
     "iopub.status.idle": "2023-03-15T12:05:02.155856Z",
     "shell.execute_reply": "2023-03-15T12:05:02.154874Z"
    },
    "papermill": {
     "duration": 0.02375,
     "end_time": "2023-03-15T12:05:02.158556",
     "exception": false,
     "start_time": "2023-03-15T12:05:02.134806",
     "status": "completed"
    },
    "tags": []
   },
   "outputs": [
    {
     "data": {
      "text/plain": [
       "198.0"
      ]
     },
     "execution_count": 23,
     "metadata": {},
     "output_type": "execute_result"
    }
   ],
   "source": [
    "df['All in Hotels'].max()"
   ]
  },
  {
   "cell_type": "code",
   "execution_count": 24,
   "id": "08166fd7",
   "metadata": {
    "execution": {
     "iopub.execute_input": "2023-03-15T12:05:02.185072Z",
     "iopub.status.busy": "2023-03-15T12:05:02.184643Z",
     "iopub.status.idle": "2023-03-15T12:05:02.193026Z",
     "shell.execute_reply": "2023-03-15T12:05:02.191435Z"
    },
    "papermill": {
     "duration": 0.024858,
     "end_time": "2023-03-15T12:05:02.195587",
     "exception": false,
     "start_time": "2023-03-15T12:05:02.170729",
     "status": "completed"
    },
    "tags": []
   },
   "outputs": [
    {
     "data": {
      "text/plain": [
       "10.0"
      ]
     },
     "execution_count": 24,
     "metadata": {},
     "output_type": "execute_result"
    }
   ],
   "source": [
    "df['Feedback'].max()"
   ]
  },
  {
   "cell_type": "code",
   "execution_count": 25,
   "id": "dee6a7ef",
   "metadata": {
    "execution": {
     "iopub.execute_input": "2023-03-15T12:05:02.222390Z",
     "iopub.status.busy": "2023-03-15T12:05:02.221916Z",
     "iopub.status.idle": "2023-03-15T12:05:02.229685Z",
     "shell.execute_reply": "2023-03-15T12:05:02.227941Z"
    },
    "papermill": {
     "duration": 0.024781,
     "end_time": "2023-03-15T12:05:02.232667",
     "exception": false,
     "start_time": "2023-03-15T12:05:02.207886",
     "status": "completed"
    },
    "tags": []
   },
   "outputs": [],
   "source": [
    "df_filter = df[df['Avg Rating'] > 3] #asccessing the col which has more than 3 rating\n",
    "destinations = df_filter['Destination'] #displaying necessary cols"
   ]
  },
  {
   "cell_type": "code",
   "execution_count": 26,
   "id": "2f4b2069",
   "metadata": {
    "execution": {
     "iopub.execute_input": "2023-03-15T12:05:02.259466Z",
     "iopub.status.busy": "2023-03-15T12:05:02.259000Z",
     "iopub.status.idle": "2023-03-15T12:05:02.268270Z",
     "shell.execute_reply": "2023-03-15T12:05:02.266901Z"
    },
    "papermill": {
     "duration": 0.026117,
     "end_time": "2023-03-15T12:05:02.271025",
     "exception": false,
     "start_time": "2023-03-15T12:05:02.244908",
     "status": "completed"
    },
    "tags": []
   },
   "outputs": [
    {
     "data": {
      "text/plain": [
       "0        New Zealand\n",
       "1         North Pole\n",
       "3             Russia\n",
       "4            Austria\n",
       "6              Italy\n",
       "9          Indonesia\n",
       "10             Japan\n",
       "11            Turkey\n",
       "13              Oman\n",
       "14    United Kingdom\n",
       "Name: Destination, dtype: object"
      ]
     },
     "execution_count": 26,
     "metadata": {},
     "output_type": "execute_result"
    }
   ],
   "source": [
    "destinations"
   ]
  },
  {
   "cell_type": "markdown",
   "id": "66f3a6ea",
   "metadata": {
    "papermill": {
     "duration": 0.011773,
     "end_time": "2023-03-15T12:05:02.295680",
     "exception": false,
     "start_time": "2023-03-15T12:05:02.283907",
     "status": "completed"
    },
    "tags": []
   },
   "source": [
    "Exercises - display desinations which has more than 7 feedbacks"
   ]
  },
  {
   "cell_type": "code",
   "execution_count": 27,
   "id": "b0b187e3",
   "metadata": {
    "execution": {
     "iopub.execute_input": "2023-03-15T12:05:02.321980Z",
     "iopub.status.busy": "2023-03-15T12:05:02.321556Z",
     "iopub.status.idle": "2023-03-15T12:05:02.328517Z",
     "shell.execute_reply": "2023-03-15T12:05:02.327003Z"
    },
    "papermill": {
     "duration": 0.023229,
     "end_time": "2023-03-15T12:05:02.331130",
     "exception": false,
     "start_time": "2023-03-15T12:05:02.307901",
     "status": "completed"
    },
    "tags": []
   },
   "outputs": [],
   "source": [
    "df_filter = df[df['Feedback'] > 7] #asccessing the col which has more than 3 rating\n",
    "destinations = df_filter['Destination'] #displaying necessary cols"
   ]
  },
  {
   "cell_type": "code",
   "execution_count": 28,
   "id": "a8392009",
   "metadata": {
    "execution": {
     "iopub.execute_input": "2023-03-15T12:05:02.357761Z",
     "iopub.status.busy": "2023-03-15T12:05:02.357291Z",
     "iopub.status.idle": "2023-03-15T12:05:02.366121Z",
     "shell.execute_reply": "2023-03-15T12:05:02.364835Z"
    },
    "papermill": {
     "duration": 0.025156,
     "end_time": "2023-03-15T12:05:02.368779",
     "exception": false,
     "start_time": "2023-03-15T12:05:02.343623",
     "status": "completed"
    },
    "tags": []
   },
   "outputs": [
    {
     "data": {
      "text/plain": [
       "0     New Zealand\n",
       "1      North Pole\n",
       "3          Russia\n",
       "4         Austria\n",
       "5           China\n",
       "6           Italy\n",
       "8           India\n",
       "9       Indonesia\n",
       "10          Japan\n",
       "11         Turkey\n",
       "12      Palestine\n",
       "Name: Destination, dtype: object"
      ]
     },
     "execution_count": 28,
     "metadata": {},
     "output_type": "execute_result"
    }
   ],
   "source": [
    "destinations"
   ]
  }
 ],
 "metadata": {
  "kernelspec": {
   "display_name": "Python 3",
   "language": "python",
   "name": "python3"
  },
  "language_info": {
   "codemirror_mode": {
    "name": "ipython",
    "version": 3
   },
   "file_extension": ".py",
   "mimetype": "text/x-python",
   "name": "python",
   "nbconvert_exporter": "python",
   "pygments_lexer": "ipython3",
   "version": "3.7.12"
  },
  "papermill": {
   "default_parameters": {},
   "duration": 13.096223,
   "end_time": "2023-03-15T12:05:03.104951",
   "environment_variables": {},
   "exception": null,
   "input_path": "__notebook__.ipynb",
   "output_path": "__notebook__.ipynb",
   "parameters": {},
   "start_time": "2023-03-15T12:04:50.008728",
   "version": "2.4.0"
  }
 },
 "nbformat": 4,
 "nbformat_minor": 5
}
